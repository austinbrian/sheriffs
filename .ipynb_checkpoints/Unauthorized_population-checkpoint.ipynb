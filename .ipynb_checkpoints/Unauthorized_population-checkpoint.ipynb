{
 "cells": [
  {
   "cell_type": "code",
   "execution_count": 1,
   "metadata": {
    "collapsed": true
   },
   "outputs": [],
   "source": [
    "# import libraries\n",
    "import pandas as pd\n",
    "import numpy as np\n"
   ]
  },
  {
   "cell_type": "code",
   "execution_count": 136,
   "metadata": {
    "collapsed": false
   },
   "outputs": [],
   "source": [
    "ct = pd.read_csv('../blog/datasets/ct.csv',dtype={'FIPS':object})\n",
    "pres = pd.read_csv('../blog/code/president_counties.csv')\n",
    "pres['turnout'] =  pres.total_votes/pres.people\n",
    "cols = [i for i in pres.columns]\n",
    "cols.append('fips_county')\n",
    "pres['fips_countyname_county'] = [str(i.split(',')[0])+' County' \n",
    "                                  for i in pres.countyname]\n",
    "pres['state'] = [str(i.split(',')[1][1:]) for i in pres.countyname]\n",
    "# pres = pd.merge(left=pres,right=ct,how='left',left_on='FIPS',right_on='FIPS')"
   ]
  },
  {
   "cell_type": "code",
   "execution_count": 129,
   "metadata": {
    "collapsed": false
   },
   "outputs": [
    {
     "data": {
      "text/html": [
       "<div>\n",
       "<table border=\"1\" class=\"dataframe\">\n",
       "  <thead>\n",
       "    <tr style=\"text-align: right;\">\n",
       "      <th></th>\n",
       "      <th>FIPS</th>\n",
       "      <th>fips_county</th>\n",
       "      <th>countyname</th>\n",
       "      <th>Reporting</th>\n",
       "      <th>trump</th>\n",
       "      <th>clinton</th>\n",
       "      <th>johnson</th>\n",
       "      <th>Others</th>\n",
       "      <th>stein</th>\n",
       "      <th>Darrell Castle</th>\n",
       "      <th>...</th>\n",
       "      <th>Emidio Soltysik</th>\n",
       "      <th>Scott Copeland</th>\n",
       "      <th>Jerry White</th>\n",
       "      <th>Monica Moorehead</th>\n",
       "      <th>Richard Duncan</th>\n",
       "      <th>Peter Skewes</th>\n",
       "      <th>Rocky Giordani</th>\n",
       "      <th>total_votes</th>\n",
       "      <th>state</th>\n",
       "      <th>ind_cand</th>\n",
       "    </tr>\n",
       "  </thead>\n",
       "  <tbody>\n",
       "    <tr>\n",
       "      <th>290</th>\n",
       "      <td>10003</td>\n",
       "      <td>New Castle County, DE</td>\n",
       "      <td>New Castle, DE</td>\n",
       "      <td>100.0</td>\n",
       "      <td>85525</td>\n",
       "      <td>162919</td>\n",
       "      <td>9107</td>\n",
       "      <td>1472</td>\n",
       "      <td>3956</td>\n",
       "      <td>0</td>\n",
       "      <td>...</td>\n",
       "      <td>0</td>\n",
       "      <td>0</td>\n",
       "      <td>0</td>\n",
       "      <td>0</td>\n",
       "      <td>0</td>\n",
       "      <td>0</td>\n",
       "      <td>0</td>\n",
       "      <td>262979</td>\n",
       "      <td>DE</td>\n",
       "      <td>14535</td>\n",
       "    </tr>\n",
       "  </tbody>\n",
       "</table>\n",
       "<p>1 rows × 33 columns</p>\n",
       "</div>"
      ],
      "text/plain": [
       "      FIPS            fips_county      countyname  Reporting  trump  clinton  \\\n",
       "290  10003  New Castle County, DE  New Castle, DE      100.0  85525   162919   \n",
       "\n",
       "     johnson  Others  stein  Darrell Castle    ...     Emidio Soltysik  \\\n",
       "290     9107    1472   3956               0    ...                   0   \n",
       "\n",
       "     Scott Copeland  Jerry White  Monica Moorehead  Richard Duncan  \\\n",
       "290               0            0                 0               0   \n",
       "\n",
       "     Peter Skewes  Rocky Giordani  total_votes  state  ind_cand  \n",
       "290             0               0       262979     DE     14535  \n",
       "\n",
       "[1 rows x 33 columns]"
      ]
     },
     "execution_count": 129,
     "metadata": {},
     "output_type": "execute_result"
    }
   ],
   "source": [
    "ct[ct.FIPS=='10003']"
   ]
  },
  {
   "cell_type": "code",
   "execution_count": 137,
   "metadata": {
    "collapsed": false,
    "scrolled": true
   },
   "outputs": [
    {
     "data": {
      "text/html": [
       "<div>\n",
       "<table border=\"1\" class=\"dataframe\">\n",
       "  <thead>\n",
       "    <tr style=\"text-align: right;\">\n",
       "      <th></th>\n",
       "      <th>FIPS</th>\n",
       "      <th>countyname</th>\n",
       "      <th>clinton</th>\n",
       "      <th>trump</th>\n",
       "      <th>johnson</th>\n",
       "      <th>ind_cand</th>\n",
       "      <th>mcmullin</th>\n",
       "      <th>total_votes</th>\n",
       "      <th>AGI</th>\n",
       "      <th>num_returns</th>\n",
       "      <th>num_dependents</th>\n",
       "      <th>num_tot_inc</th>\n",
       "      <th>tot_inc_amt</th>\n",
       "      <th>people</th>\n",
       "      <th>turnout</th>\n",
       "      <th>fips_countyname_county</th>\n",
       "      <th>state</th>\n",
       "    </tr>\n",
       "  </thead>\n",
       "  <tbody>\n",
       "    <tr>\n",
       "      <th>0</th>\n",
       "      <td>11001</td>\n",
       "      <td>Dist. of Columbia, DC</td>\n",
       "      <td>282830</td>\n",
       "      <td>12723</td>\n",
       "      <td>4906</td>\n",
       "      <td>15715</td>\n",
       "      <td>0</td>\n",
       "      <td>311268</td>\n",
       "      <td>29796378.0</td>\n",
       "      <td>336950.0</td>\n",
       "      <td>146050.0</td>\n",
       "      <td>335350.0</td>\n",
       "      <td>30339660.0</td>\n",
       "      <td>483000.0</td>\n",
       "      <td>0.644447</td>\n",
       "      <td>Dist. of Columbia County</td>\n",
       "      <td>DC</td>\n",
       "    </tr>\n",
       "    <tr>\n",
       "      <th>1</th>\n",
       "      <td>10001</td>\n",
       "      <td>Kent, DE</td>\n",
       "      <td>33351</td>\n",
       "      <td>36991</td>\n",
       "      <td>2876</td>\n",
       "      <td>4387</td>\n",
       "      <td>0</td>\n",
       "      <td>74729</td>\n",
       "      <td>3838044.0</td>\n",
       "      <td>78250.0</td>\n",
       "      <td>49630.0</td>\n",
       "      <td>77870.0</td>\n",
       "      <td>3878950.0</td>\n",
       "      <td>127880.0</td>\n",
       "      <td>0.584368</td>\n",
       "      <td>Kent County</td>\n",
       "      <td>DE</td>\n",
       "    </tr>\n",
       "    <tr>\n",
       "      <th>2</th>\n",
       "      <td>10003</td>\n",
       "      <td>New Castle, DE</td>\n",
       "      <td>162919</td>\n",
       "      <td>85525</td>\n",
       "      <td>9107</td>\n",
       "      <td>14535</td>\n",
       "      <td>0</td>\n",
       "      <td>262979</td>\n",
       "      <td>18125866.0</td>\n",
       "      <td>264010.0</td>\n",
       "      <td>163040.0</td>\n",
       "      <td>263160.0</td>\n",
       "      <td>18335380.0</td>\n",
       "      <td>427050.0</td>\n",
       "      <td>0.615804</td>\n",
       "      <td>New Castle County</td>\n",
       "      <td>DE</td>\n",
       "    </tr>\n",
       "    <tr>\n",
       "      <th>3</th>\n",
       "      <td>10005</td>\n",
       "      <td>Sussex, DE</td>\n",
       "      <td>39333</td>\n",
       "      <td>62611</td>\n",
       "      <td>2774</td>\n",
       "      <td>4162</td>\n",
       "      <td>0</td>\n",
       "      <td>106106</td>\n",
       "      <td>5551949.0</td>\n",
       "      <td>101570.0</td>\n",
       "      <td>52770.0</td>\n",
       "      <td>101200.0</td>\n",
       "      <td>5638223.0</td>\n",
       "      <td>154340.0</td>\n",
       "      <td>0.687482</td>\n",
       "      <td>Sussex County</td>\n",
       "      <td>DE</td>\n",
       "    </tr>\n",
       "    <tr>\n",
       "      <th>4</th>\n",
       "      <td>12001</td>\n",
       "      <td>Alachua, FL</td>\n",
       "      <td>75820</td>\n",
       "      <td>46834</td>\n",
       "      <td>4059</td>\n",
       "      <td>7446</td>\n",
       "      <td>0</td>\n",
       "      <td>130100</td>\n",
       "      <td>6158906.0</td>\n",
       "      <td>110240.0</td>\n",
       "      <td>59760.0</td>\n",
       "      <td>109670.0</td>\n",
       "      <td>6251142.0</td>\n",
       "      <td>170000.0</td>\n",
       "      <td>0.765294</td>\n",
       "      <td>Alachua County</td>\n",
       "      <td>FL</td>\n",
       "    </tr>\n",
       "  </tbody>\n",
       "</table>\n",
       "</div>"
      ],
      "text/plain": [
       "    FIPS             countyname  clinton  trump  johnson  ind_cand  mcmullin  \\\n",
       "0  11001  Dist. of Columbia, DC   282830  12723     4906     15715         0   \n",
       "1  10001               Kent, DE    33351  36991     2876      4387         0   \n",
       "2  10003         New Castle, DE   162919  85525     9107     14535         0   \n",
       "3  10005             Sussex, DE    39333  62611     2774      4162         0   \n",
       "4  12001            Alachua, FL    75820  46834     4059      7446         0   \n",
       "\n",
       "   total_votes         AGI  num_returns  num_dependents  num_tot_inc  \\\n",
       "0       311268  29796378.0     336950.0        146050.0     335350.0   \n",
       "1        74729   3838044.0      78250.0         49630.0      77870.0   \n",
       "2       262979  18125866.0     264010.0        163040.0     263160.0   \n",
       "3       106106   5551949.0     101570.0         52770.0     101200.0   \n",
       "4       130100   6158906.0     110240.0         59760.0     109670.0   \n",
       "\n",
       "   tot_inc_amt    people   turnout    fips_countyname_county state  \n",
       "0   30339660.0  483000.0  0.644447  Dist. of Columbia County    DC  \n",
       "1    3878950.0  127880.0  0.584368               Kent County    DE  \n",
       "2   18335380.0  427050.0  0.615804         New Castle County    DE  \n",
       "3    5638223.0  154340.0  0.687482             Sussex County    DE  \n",
       "4    6251142.0  170000.0  0.765294            Alachua County    FL  "
      ]
     },
     "execution_count": 137,
     "metadata": {},
     "output_type": "execute_result"
    }
   ],
   "source": [
    "pres.head()"
   ]
  },
  {
   "cell_type": "markdown",
   "metadata": {},
   "source": [
    "### Detention Data\n",
    "Need to build a scraper for detention - the point is to go through each detention center in each state and record the yes/no ratio for each. "
   ]
  },
  {
   "cell_type": "code",
   "execution_count": 14,
   "metadata": {
    "collapsed": true
   },
   "outputs": [],
   "source": [
    "import requests\n",
    "from bs4 import BeautifulSoup\n",
    "import selenium"
   ]
  },
  {
   "cell_type": "code",
   "execution_count": 13,
   "metadata": {
    "collapsed": true
   },
   "outputs": [],
   "source": [
    "''' \n",
    "Current state is controlled by javascript\n",
    "Need to use selenium to click on each state\n",
    "Monthly is stored just in the graph?\n",
    "'''\n",
    "url = 'http://trac.syr.edu/phptools/immigration/detain/'\n",
    "html = requests.get(url)\n",
    "b = BeautifulSoup(html.text)"
   ]
  },
  {
   "cell_type": "code",
   "execution_count": null,
   "metadata": {
    "collapsed": true
   },
   "outputs": [],
   "source": [
    "# get all the states from the page, return a list of states\n",
    "def get_states(b):\n",
    "    statelist = []\n",
    "    states = b.find_all(name=).text\n",
    "    for i in states:\n",
    "        statelist.append(i)\n",
    "    return statelist\n",
    "\n",
    "states = get_states(b)"
   ]
  },
  {
   "cell_type": "code",
   "execution_count": null,
   "metadata": {
    "collapsed": true
   },
   "outputs": [],
   "source": []
  },
  {
   "cell_type": "code",
   "execution_count": null,
   "metadata": {
    "collapsed": true
   },
   "outputs": [],
   "source": [
    "# get all the institutional centers - usually run at the county level\n",
    "# but some, like LA, include both city and county jurisdictions\n",
    "# this pulls them all for a given state\n",
    "def get_institutions(b):\n",
    "    b.find_all(name=)"
   ]
  },
  {
   "cell_type": "code",
   "execution_count": null,
   "metadata": {
    "collapsed": true
   },
   "outputs": [],
   "source": [
    "# ratio listed in the third table\n",
    "def get_ratio(b):\n",
    "    b.find(name=)"
   ]
  },
  {
   "cell_type": "code",
   "execution_count": null,
   "metadata": {
    "collapsed": true
   },
   "outputs": [],
   "source": []
  },
  {
   "cell_type": "markdown",
   "metadata": {},
   "source": [
    "## ILRC \n",
    "This stuff is embedded in a google map [on their blog](https://www.ilrc.org/local-enforcement-map). Probably best just to ask for the raw file. But it's possible that the data is scrapable. The class that looks for the relevant information is below."
   ]
  },
  {
   "cell_type": "markdown",
   "metadata": {},
   "source": [
    "###### relevant html: \n",
    "```html\n",
    "<div class=\"googft-info-window\">\n",
    "```"
   ]
  },
  {
   "cell_type": "markdown",
   "metadata": {},
   "source": [
    "Source for [fusion table](https://fusiontables.googleusercontent.com/embedviz?q=select+col13+from+1x4mRJ-IKLOWgSAYGHWULvshcVoGHGiXftK3kZb4_&viz=MAP&h=false&lat=37.98471683444062&lng=-92.96410977109372&t=1&z=5&l=col13&y=2&tmplt=2&hml=KML): `1x4mRJ-IKLOWgSAYGHWULvshcVoGHGiXftK3kZb4_`"
   ]
  },
  {
   "cell_type": "code",
   "execution_count": null,
   "metadata": {
    "collapsed": true
   },
   "outputs": [],
   "source": []
  },
  {
   "cell_type": "markdown",
   "metadata": {},
   "source": [
    "### Immigration Data\n",
    "From the Migration Policy Institute"
   ]
  },
  {
   "cell_type": "code",
   "execution_count": 15,
   "metadata": {
    "collapsed": true
   },
   "outputs": [],
   "source": [
    "google_doc_data = 'https://docs.google.com/spreadsheets/d/1Iq0zcvQUskwYWCieayvIF8kaFGONxa9ZkCELyQzbbZI/edit#gid=816492683'\n"
   ]
  },
  {
   "cell_type": "code",
   "execution_count": 108,
   "metadata": {
    "collapsed": false
   },
   "outputs": [
    {
     "data": {
      "text/html": [
       "<div>\n",
       "<table border=\"1\" class=\"dataframe\">\n",
       "  <thead>\n",
       "    <tr style=\"text-align: right;\">\n",
       "      <th></th>\n",
       "      <th>State</th>\n",
       "      <th>County</th>\n",
       "      <th>county_name</th>\n",
       "      <th>County_UA_pop</th>\n",
       "      <th>mult_counties</th>\n",
       "      <th>State_init</th>\n",
       "      <th>Statewide_UA_pop</th>\n",
       "    </tr>\n",
       "  </thead>\n",
       "  <tbody>\n",
       "    <tr>\n",
       "      <th>166</th>\n",
       "      <td>Kentucky</td>\n",
       "      <td>Jefferson County, Kentucky</td>\n",
       "      <td>Jefferson County</td>\n",
       "      <td>12000</td>\n",
       "      <td>0</td>\n",
       "      <td>KY</td>\n",
       "      <td>45000</td>\n",
       "    </tr>\n",
       "    <tr>\n",
       "      <th>167</th>\n",
       "      <td>Kentucky</td>\n",
       "      <td>Fayette County, Kentucky</td>\n",
       "      <td>Fayette County</td>\n",
       "      <td>12000</td>\n",
       "      <td>0</td>\n",
       "      <td>KY</td>\n",
       "      <td>45000</td>\n",
       "    </tr>\n",
       "    <tr>\n",
       "      <th>168</th>\n",
       "      <td>Iowa</td>\n",
       "      <td>Polk County, Iowa</td>\n",
       "      <td>Polk County</td>\n",
       "      <td>11000</td>\n",
       "      <td>0</td>\n",
       "      <td>IA</td>\n",
       "      <td>36000</td>\n",
       "    </tr>\n",
       "    <tr>\n",
       "      <th>169</th>\n",
       "      <td>Arkansas</td>\n",
       "      <td>Benton County, Arkansas</td>\n",
       "      <td>Benton County</td>\n",
       "      <td>11000</td>\n",
       "      <td>0</td>\n",
       "      <td>AR</td>\n",
       "      <td>56000</td>\n",
       "    </tr>\n",
       "    <tr>\n",
       "      <th>170</th>\n",
       "      <td>Arkansas</td>\n",
       "      <td>Washington County, Arkansas</td>\n",
       "      <td>Washington County</td>\n",
       "      <td>11000</td>\n",
       "      <td>0</td>\n",
       "      <td>AR</td>\n",
       "      <td>56000</td>\n",
       "    </tr>\n",
       "  </tbody>\n",
       "</table>\n",
       "</div>"
      ],
      "text/plain": [
       "        State                       County        county_name  County_UA_pop  \\\n",
       "166  Kentucky   Jefferson County, Kentucky   Jefferson County          12000   \n",
       "167  Kentucky     Fayette County, Kentucky     Fayette County          12000   \n",
       "168      Iowa            Polk County, Iowa        Polk County          11000   \n",
       "169  Arkansas      Benton County, Arkansas      Benton County          11000   \n",
       "170  Arkansas  Washington County, Arkansas  Washington County          11000   \n",
       "\n",
       "     mult_counties State_init  Statewide_UA_pop  \n",
       "166              0         KY             45000  \n",
       "167              0         KY             45000  \n",
       "168              0         IA             36000  \n",
       "169              0         AR             56000  \n",
       "170              0         AR             56000  "
      ]
     },
     "execution_count": 108,
     "metadata": {},
     "output_type": "execute_result"
    }
   ],
   "source": [
    "imm = pd.read_csv('../blog/datasets/State-county-unauthorized-estimates.csv')\n",
    "imm['county_split']=[i.split(',') for i in imm.County]\n",
    "imm['county_name']=[i[0] for i in imm.county_split]\n",
    "imm = imm.drop('county_split',axis=1)\n",
    "imm['countyname_split']=[i.split(' ') for i in imm.county_name]\n",
    "imm['County_UA_pop'] = [int(i.replace(',','')) for i in imm['Total Unauthorized Population']]\n",
    "imm.drop('Total Unauthorized Population',axis=1, inplace=True)\n",
    "# There's sometimes a couple of counties all together\n",
    "imm['mult_counties'] = 0\n",
    "for i,v in enumerate(imm.countyname_split):\n",
    "    if v[-1] == 'Counties':\n",
    "        imm.loc[i,'mult_counties'] = 1\n",
    "imm = imm.drop('countyname_split',axis=1)\n",
    "\n",
    "ua_state = pd.read_csv('../blog/datasets/State-unauthorized-estimates.csv')\n",
    "ua_state['Statewide_UA_pop'] = [int(i.replace(',','')) for i in ua_state['Total Unauthorized Population']]\n",
    "ua_state.drop('Total Unauthorized Population',axis=1, inplace=True)\n",
    "ua_state.head()\n",
    "\n",
    "imm = pd.merge(left=imm,right=ua_state,left_on='State',right_on='State')\n",
    "imm.tail()"
   ]
  },
  {
   "cell_type": "code",
   "execution_count": 109,
   "metadata": {
    "collapsed": false
   },
   "outputs": [
    {
     "data": {
      "text/plain": [
       "(171, 7)"
      ]
     },
     "execution_count": 109,
     "metadata": {},
     "output_type": "execute_result"
    }
   ],
   "source": [
    "imm.shape"
   ]
  },
  {
   "cell_type": "code",
   "execution_count": 91,
   "metadata": {
    "collapsed": false
   },
   "outputs": [
    {
     "data": {
      "text/html": [
       "<div>\n",
       "<table border=\"1\" class=\"dataframe\">\n",
       "  <thead>\n",
       "    <tr style=\"text-align: right;\">\n",
       "      <th></th>\n",
       "      <th>State</th>\n",
       "      <th>State_init</th>\n",
       "      <th>Statewide_UA_pop</th>\n",
       "    </tr>\n",
       "  </thead>\n",
       "  <tbody>\n",
       "    <tr>\n",
       "      <th>0</th>\n",
       "      <td>California</td>\n",
       "      <td>CA</td>\n",
       "      <td>3019000</td>\n",
       "    </tr>\n",
       "    <tr>\n",
       "      <th>1</th>\n",
       "      <td>Texas</td>\n",
       "      <td>TX</td>\n",
       "      <td>1470000</td>\n",
       "    </tr>\n",
       "    <tr>\n",
       "      <th>2</th>\n",
       "      <td>New York</td>\n",
       "      <td>NY</td>\n",
       "      <td>850000</td>\n",
       "    </tr>\n",
       "    <tr>\n",
       "      <th>3</th>\n",
       "      <td>Florida</td>\n",
       "      <td>FL</td>\n",
       "      <td>610000</td>\n",
       "    </tr>\n",
       "    <tr>\n",
       "      <th>4</th>\n",
       "      <td>Illinois</td>\n",
       "      <td>IL</td>\n",
       "      <td>519000</td>\n",
       "    </tr>\n",
       "  </tbody>\n",
       "</table>\n",
       "</div>"
      ],
      "text/plain": [
       "        State State_init  Statewide_UA_pop\n",
       "0  California         CA           3019000\n",
       "1       Texas         TX           1470000\n",
       "2    New York         NY            850000\n",
       "3     Florida         FL            610000\n",
       "4    Illinois         IL            519000"
      ]
     },
     "execution_count": 91,
     "metadata": {},
     "output_type": "execute_result"
    }
   ],
   "source": [
    "ua_state = pd.read_csv('../blog/datasets/State-unauthorized-estimates.csv')\n",
    "ua_state['Statewide_UA_pop'] = [int(i.replace(',','')) for i in ua_state['Total Unauthorized Population']]\n",
    "ua_state.drop('Total Unauthorized Population',axis=1, inplace=True)\n",
    "ua_state.head()"
   ]
  },
  {
   "cell_type": "code",
   "execution_count": 67,
   "metadata": {
    "collapsed": false
   },
   "outputs": [
    {
     "data": {
      "text/plain": [
       "numpy.int64"
      ]
     },
     "execution_count": 67,
     "metadata": {},
     "output_type": "execute_result"
    }
   ],
   "source": [
    "type(ua_state['Total Unauthorized Population'][1])"
   ]
  },
  {
   "cell_type": "code",
   "execution_count": 102,
   "metadata": {
    "collapsed": false
   },
   "outputs": [],
   "source": [
    "imm = pd.merge(left=imm,right=ua_state,left_on='State',right_on='State')"
   ]
  },
  {
   "cell_type": "code",
   "execution_count": 110,
   "metadata": {
    "collapsed": false
   },
   "outputs": [
    {
     "data": {
      "text/html": [
       "<div>\n",
       "<table border=\"1\" class=\"dataframe\">\n",
       "  <thead>\n",
       "    <tr style=\"text-align: right;\">\n",
       "      <th></th>\n",
       "      <th>State</th>\n",
       "      <th>County</th>\n",
       "      <th>county_name</th>\n",
       "      <th>County_UA_pop</th>\n",
       "      <th>mult_counties</th>\n",
       "      <th>State_init</th>\n",
       "      <th>Statewide_UA_pop</th>\n",
       "    </tr>\n",
       "  </thead>\n",
       "  <tbody>\n",
       "    <tr>\n",
       "      <th>0</th>\n",
       "      <td>California</td>\n",
       "      <td>Los Angeles County, California</td>\n",
       "      <td>Los Angeles County</td>\n",
       "      <td>1060000</td>\n",
       "      <td>0</td>\n",
       "      <td>CA</td>\n",
       "      <td>3019000</td>\n",
       "    </tr>\n",
       "    <tr>\n",
       "      <th>1</th>\n",
       "      <td>California</td>\n",
       "      <td>Orange County, California</td>\n",
       "      <td>Orange County</td>\n",
       "      <td>270000</td>\n",
       "      <td>0</td>\n",
       "      <td>CA</td>\n",
       "      <td>3019000</td>\n",
       "    </tr>\n",
       "    <tr>\n",
       "      <th>2</th>\n",
       "      <td>California</td>\n",
       "      <td>San Diego County, California</td>\n",
       "      <td>San Diego County</td>\n",
       "      <td>207000</td>\n",
       "      <td>0</td>\n",
       "      <td>CA</td>\n",
       "      <td>3019000</td>\n",
       "    </tr>\n",
       "    <tr>\n",
       "      <th>3</th>\n",
       "      <td>California</td>\n",
       "      <td>Riverside County, California</td>\n",
       "      <td>Riverside County</td>\n",
       "      <td>161000</td>\n",
       "      <td>0</td>\n",
       "      <td>CA</td>\n",
       "      <td>3019000</td>\n",
       "    </tr>\n",
       "    <tr>\n",
       "      <th>4</th>\n",
       "      <td>California</td>\n",
       "      <td>San Bernardino County, California</td>\n",
       "      <td>San Bernardino County</td>\n",
       "      <td>140000</td>\n",
       "      <td>0</td>\n",
       "      <td>CA</td>\n",
       "      <td>3019000</td>\n",
       "    </tr>\n",
       "  </tbody>\n",
       "</table>\n",
       "</div>"
      ],
      "text/plain": [
       "        State                             County            county_name  \\\n",
       "0  California     Los Angeles County, California     Los Angeles County   \n",
       "1  California          Orange County, California          Orange County   \n",
       "2  California       San Diego County, California       San Diego County   \n",
       "3  California       Riverside County, California       Riverside County   \n",
       "4  California  San Bernardino County, California  San Bernardino County   \n",
       "\n",
       "   County_UA_pop  mult_counties State_init  Statewide_UA_pop  \n",
       "0        1060000              0         CA           3019000  \n",
       "1         270000              0         CA           3019000  \n",
       "2         207000              0         CA           3019000  \n",
       "3         161000              0         CA           3019000  \n",
       "4         140000              0         CA           3019000  "
      ]
     },
     "execution_count": 110,
     "metadata": {},
     "output_type": "execute_result"
    }
   ],
   "source": [
    "imm.head()"
   ]
  },
  {
   "cell_type": "code",
   "execution_count": 138,
   "metadata": {
    "collapsed": false
   },
   "outputs": [
    {
     "data": {
      "text/html": [
       "<div>\n",
       "<table border=\"1\" class=\"dataframe\">\n",
       "  <thead>\n",
       "    <tr style=\"text-align: right;\">\n",
       "      <th></th>\n",
       "      <th>FIPS</th>\n",
       "      <th>countyname</th>\n",
       "      <th>clinton</th>\n",
       "      <th>trump</th>\n",
       "      <th>johnson</th>\n",
       "      <th>ind_cand</th>\n",
       "      <th>mcmullin</th>\n",
       "      <th>total_votes</th>\n",
       "      <th>AGI</th>\n",
       "      <th>num_returns</th>\n",
       "      <th>num_dependents</th>\n",
       "      <th>num_tot_inc</th>\n",
       "      <th>tot_inc_amt</th>\n",
       "      <th>people</th>\n",
       "      <th>turnout</th>\n",
       "      <th>fips_countyname_county</th>\n",
       "      <th>state</th>\n",
       "    </tr>\n",
       "  </thead>\n",
       "  <tbody>\n",
       "    <tr>\n",
       "      <th>0</th>\n",
       "      <td>11001</td>\n",
       "      <td>Dist. of Columbia, DC</td>\n",
       "      <td>282830</td>\n",
       "      <td>12723</td>\n",
       "      <td>4906</td>\n",
       "      <td>15715</td>\n",
       "      <td>0</td>\n",
       "      <td>311268</td>\n",
       "      <td>29796378.0</td>\n",
       "      <td>336950.0</td>\n",
       "      <td>146050.0</td>\n",
       "      <td>335350.0</td>\n",
       "      <td>30339660.0</td>\n",
       "      <td>483000.0</td>\n",
       "      <td>0.644447</td>\n",
       "      <td>Dist. of Columbia County</td>\n",
       "      <td>DC</td>\n",
       "    </tr>\n",
       "    <tr>\n",
       "      <th>1</th>\n",
       "      <td>10001</td>\n",
       "      <td>Kent, DE</td>\n",
       "      <td>33351</td>\n",
       "      <td>36991</td>\n",
       "      <td>2876</td>\n",
       "      <td>4387</td>\n",
       "      <td>0</td>\n",
       "      <td>74729</td>\n",
       "      <td>3838044.0</td>\n",
       "      <td>78250.0</td>\n",
       "      <td>49630.0</td>\n",
       "      <td>77870.0</td>\n",
       "      <td>3878950.0</td>\n",
       "      <td>127880.0</td>\n",
       "      <td>0.584368</td>\n",
       "      <td>Kent County</td>\n",
       "      <td>DE</td>\n",
       "    </tr>\n",
       "    <tr>\n",
       "      <th>2</th>\n",
       "      <td>10003</td>\n",
       "      <td>New Castle, DE</td>\n",
       "      <td>162919</td>\n",
       "      <td>85525</td>\n",
       "      <td>9107</td>\n",
       "      <td>14535</td>\n",
       "      <td>0</td>\n",
       "      <td>262979</td>\n",
       "      <td>18125866.0</td>\n",
       "      <td>264010.0</td>\n",
       "      <td>163040.0</td>\n",
       "      <td>263160.0</td>\n",
       "      <td>18335380.0</td>\n",
       "      <td>427050.0</td>\n",
       "      <td>0.615804</td>\n",
       "      <td>New Castle County</td>\n",
       "      <td>DE</td>\n",
       "    </tr>\n",
       "    <tr>\n",
       "      <th>3</th>\n",
       "      <td>10005</td>\n",
       "      <td>Sussex, DE</td>\n",
       "      <td>39333</td>\n",
       "      <td>62611</td>\n",
       "      <td>2774</td>\n",
       "      <td>4162</td>\n",
       "      <td>0</td>\n",
       "      <td>106106</td>\n",
       "      <td>5551949.0</td>\n",
       "      <td>101570.0</td>\n",
       "      <td>52770.0</td>\n",
       "      <td>101200.0</td>\n",
       "      <td>5638223.0</td>\n",
       "      <td>154340.0</td>\n",
       "      <td>0.687482</td>\n",
       "      <td>Sussex County</td>\n",
       "      <td>DE</td>\n",
       "    </tr>\n",
       "    <tr>\n",
       "      <th>4</th>\n",
       "      <td>12001</td>\n",
       "      <td>Alachua, FL</td>\n",
       "      <td>75820</td>\n",
       "      <td>46834</td>\n",
       "      <td>4059</td>\n",
       "      <td>7446</td>\n",
       "      <td>0</td>\n",
       "      <td>130100</td>\n",
       "      <td>6158906.0</td>\n",
       "      <td>110240.0</td>\n",
       "      <td>59760.0</td>\n",
       "      <td>109670.0</td>\n",
       "      <td>6251142.0</td>\n",
       "      <td>170000.0</td>\n",
       "      <td>0.765294</td>\n",
       "      <td>Alachua County</td>\n",
       "      <td>FL</td>\n",
       "    </tr>\n",
       "  </tbody>\n",
       "</table>\n",
       "</div>"
      ],
      "text/plain": [
       "    FIPS             countyname  clinton  trump  johnson  ind_cand  mcmullin  \\\n",
       "0  11001  Dist. of Columbia, DC   282830  12723     4906     15715         0   \n",
       "1  10001               Kent, DE    33351  36991     2876      4387         0   \n",
       "2  10003         New Castle, DE   162919  85525     9107     14535         0   \n",
       "3  10005             Sussex, DE    39333  62611     2774      4162         0   \n",
       "4  12001            Alachua, FL    75820  46834     4059      7446         0   \n",
       "\n",
       "   total_votes         AGI  num_returns  num_dependents  num_tot_inc  \\\n",
       "0       311268  29796378.0     336950.0        146050.0     335350.0   \n",
       "1        74729   3838044.0      78250.0         49630.0      77870.0   \n",
       "2       262979  18125866.0     264010.0        163040.0     263160.0   \n",
       "3       106106   5551949.0     101570.0         52770.0     101200.0   \n",
       "4       130100   6158906.0     110240.0         59760.0     109670.0   \n",
       "\n",
       "   tot_inc_amt    people   turnout    fips_countyname_county state  \n",
       "0   30339660.0  483000.0  0.644447  Dist. of Columbia County    DC  \n",
       "1    3878950.0  127880.0  0.584368               Kent County    DE  \n",
       "2   18335380.0  427050.0  0.615804         New Castle County    DE  \n",
       "3    5638223.0  154340.0  0.687482             Sussex County    DE  \n",
       "4    6251142.0  170000.0  0.765294            Alachua County    FL  "
      ]
     },
     "execution_count": 138,
     "metadata": {},
     "output_type": "execute_result"
    }
   ],
   "source": [
    "pres.head()"
   ]
  },
  {
   "cell_type": "code",
   "execution_count": 139,
   "metadata": {
    "collapsed": false
   },
   "outputs": [],
   "source": [
    "df =pd.merge(left=pres,right=imm,left_on=['fips_countyname_county','state'],\n",
    "             right_on=['county_name','State_init'])"
   ]
  },
  {
   "cell_type": "code",
   "execution_count": 146,
   "metadata": {
    "collapsed": false,
    "scrolled": false
   },
   "outputs": [
    {
     "data": {
      "text/html": [
       "<div>\n",
       "<table border=\"1\" class=\"dataframe\">\n",
       "  <thead>\n",
       "    <tr style=\"text-align: right;\">\n",
       "      <th></th>\n",
       "      <th>0</th>\n",
       "      <th>1</th>\n",
       "      <th>2</th>\n",
       "      <th>3</th>\n",
       "      <th>4</th>\n",
       "    </tr>\n",
       "  </thead>\n",
       "  <tbody>\n",
       "    <tr>\n",
       "      <th>FIPS</th>\n",
       "      <td>10003</td>\n",
       "      <td>12011</td>\n",
       "      <td>12021</td>\n",
       "      <td>12057</td>\n",
       "      <td>12071</td>\n",
       "    </tr>\n",
       "    <tr>\n",
       "      <th>countyname</th>\n",
       "      <td>New Castle, DE</td>\n",
       "      <td>Broward, FL</td>\n",
       "      <td>Collier, FL</td>\n",
       "      <td>Hillsborough, FL</td>\n",
       "      <td>Lee, FL</td>\n",
       "    </tr>\n",
       "    <tr>\n",
       "      <th>clinton</th>\n",
       "      <td>162919</td>\n",
       "      <td>553320</td>\n",
       "      <td>61085</td>\n",
       "      <td>307896</td>\n",
       "      <td>124908</td>\n",
       "    </tr>\n",
       "    <tr>\n",
       "      <th>trump</th>\n",
       "      <td>85525</td>\n",
       "      <td>260951</td>\n",
       "      <td>105423</td>\n",
       "      <td>266870</td>\n",
       "      <td>191551</td>\n",
       "    </tr>\n",
       "    <tr>\n",
       "      <th>johnson</th>\n",
       "      <td>9107</td>\n",
       "      <td>11078</td>\n",
       "      <td>3263</td>\n",
       "      <td>15703</td>\n",
       "      <td>6982</td>\n",
       "    </tr>\n",
       "    <tr>\n",
       "      <th>ind_cand</th>\n",
       "      <td>14535</td>\n",
       "      <td>23117</td>\n",
       "      <td>6002</td>\n",
       "      <td>29124</td>\n",
       "      <td>13303</td>\n",
       "    </tr>\n",
       "    <tr>\n",
       "      <th>mcmullin</th>\n",
       "      <td>0</td>\n",
       "      <td>0</td>\n",
       "      <td>0</td>\n",
       "      <td>0</td>\n",
       "      <td>0</td>\n",
       "    </tr>\n",
       "    <tr>\n",
       "      <th>total_votes</th>\n",
       "      <td>262979</td>\n",
       "      <td>837388</td>\n",
       "      <td>172510</td>\n",
       "      <td>603890</td>\n",
       "      <td>329762</td>\n",
       "    </tr>\n",
       "    <tr>\n",
       "      <th>AGI</th>\n",
       "      <td>1.81259e+07</td>\n",
       "      <td>5.49472e+07</td>\n",
       "      <td>2.17082e+07</td>\n",
       "      <td>3.67815e+07</td>\n",
       "      <td>2.1518e+07</td>\n",
       "    </tr>\n",
       "    <tr>\n",
       "      <th>num_returns</th>\n",
       "      <td>264010</td>\n",
       "      <td>922370</td>\n",
       "      <td>173430</td>\n",
       "      <td>618330</td>\n",
       "      <td>318780</td>\n",
       "    </tr>\n",
       "    <tr>\n",
       "      <th>num_dependents</th>\n",
       "      <td>163040</td>\n",
       "      <td>550570</td>\n",
       "      <td>94720</td>\n",
       "      <td>401610</td>\n",
       "      <td>167690</td>\n",
       "    </tr>\n",
       "    <tr>\n",
       "      <th>num_tot_inc</th>\n",
       "      <td>263160</td>\n",
       "      <td>917950</td>\n",
       "      <td>172820</td>\n",
       "      <td>615620</td>\n",
       "      <td>317410</td>\n",
       "    </tr>\n",
       "    <tr>\n",
       "      <th>tot_inc_amt</th>\n",
       "      <td>1.83354e+07</td>\n",
       "      <td>5.57361e+07</td>\n",
       "      <td>2.20656e+07</td>\n",
       "      <td>3.72932e+07</td>\n",
       "      <td>2.18567e+07</td>\n",
       "    </tr>\n",
       "    <tr>\n",
       "      <th>people</th>\n",
       "      <td>427050</td>\n",
       "      <td>1.47294e+06</td>\n",
       "      <td>268150</td>\n",
       "      <td>1.01994e+06</td>\n",
       "      <td>486470</td>\n",
       "    </tr>\n",
       "    <tr>\n",
       "      <th>turnout</th>\n",
       "      <td>0.615804</td>\n",
       "      <td>0.568515</td>\n",
       "      <td>0.643334</td>\n",
       "      <td>0.592084</td>\n",
       "      <td>0.677867</td>\n",
       "    </tr>\n",
       "    <tr>\n",
       "      <th>fips_countyname_county</th>\n",
       "      <td>New Castle County</td>\n",
       "      <td>Broward County</td>\n",
       "      <td>Collier County</td>\n",
       "      <td>Hillsborough County</td>\n",
       "      <td>Lee County</td>\n",
       "    </tr>\n",
       "    <tr>\n",
       "      <th>state</th>\n",
       "      <td>DE</td>\n",
       "      <td>FL</td>\n",
       "      <td>FL</td>\n",
       "      <td>FL</td>\n",
       "      <td>FL</td>\n",
       "    </tr>\n",
       "    <tr>\n",
       "      <th>State</th>\n",
       "      <td>Delaware</td>\n",
       "      <td>Florida</td>\n",
       "      <td>Florida</td>\n",
       "      <td>Florida</td>\n",
       "      <td>Florida</td>\n",
       "    </tr>\n",
       "    <tr>\n",
       "      <th>County</th>\n",
       "      <td>New Castle County, Delaware</td>\n",
       "      <td>Broward County, Florida</td>\n",
       "      <td>Collier County, Florida</td>\n",
       "      <td>Hillsborough County, Florida</td>\n",
       "      <td>Lee County, Florida</td>\n",
       "    </tr>\n",
       "    <tr>\n",
       "      <th>county_name</th>\n",
       "      <td>New Castle County</td>\n",
       "      <td>Broward County</td>\n",
       "      <td>Collier County</td>\n",
       "      <td>Hillsborough County</td>\n",
       "      <td>Lee County</td>\n",
       "    </tr>\n",
       "    <tr>\n",
       "      <th>County_UA_pop</th>\n",
       "      <td>15000</td>\n",
       "      <td>84000</td>\n",
       "      <td>22000</td>\n",
       "      <td>41000</td>\n",
       "      <td>27000</td>\n",
       "    </tr>\n",
       "    <tr>\n",
       "      <th>mult_counties</th>\n",
       "      <td>0</td>\n",
       "      <td>0</td>\n",
       "      <td>0</td>\n",
       "      <td>0</td>\n",
       "      <td>0</td>\n",
       "    </tr>\n",
       "    <tr>\n",
       "      <th>State_init</th>\n",
       "      <td>DE</td>\n",
       "      <td>FL</td>\n",
       "      <td>FL</td>\n",
       "      <td>FL</td>\n",
       "      <td>FL</td>\n",
       "    </tr>\n",
       "    <tr>\n",
       "      <th>Statewide_UA_pop</th>\n",
       "      <td>23000</td>\n",
       "      <td>610000</td>\n",
       "      <td>610000</td>\n",
       "      <td>610000</td>\n",
       "      <td>610000</td>\n",
       "    </tr>\n",
       "  </tbody>\n",
       "</table>\n",
       "</div>"
      ],
      "text/plain": [
       "                                                  0                        1  \\\n",
       "FIPS                                          10003                    12011   \n",
       "countyname                           New Castle, DE              Broward, FL   \n",
       "clinton                                      162919                   553320   \n",
       "trump                                         85525                   260951   \n",
       "johnson                                        9107                    11078   \n",
       "ind_cand                                      14535                    23117   \n",
       "mcmullin                                          0                        0   \n",
       "total_votes                                  262979                   837388   \n",
       "AGI                                     1.81259e+07              5.49472e+07   \n",
       "num_returns                                  264010                   922370   \n",
       "num_dependents                               163040                   550570   \n",
       "num_tot_inc                                  263160                   917950   \n",
       "tot_inc_amt                             1.83354e+07              5.57361e+07   \n",
       "people                                       427050              1.47294e+06   \n",
       "turnout                                    0.615804                 0.568515   \n",
       "fips_countyname_county            New Castle County           Broward County   \n",
       "state                                            DE                       FL   \n",
       "State                                      Delaware                  Florida   \n",
       "County                  New Castle County, Delaware  Broward County, Florida   \n",
       "county_name                       New Castle County           Broward County   \n",
       "County_UA_pop                                 15000                    84000   \n",
       "mult_counties                                     0                        0   \n",
       "State_init                                       DE                       FL   \n",
       "Statewide_UA_pop                              23000                   610000   \n",
       "\n",
       "                                              2                             3  \\\n",
       "FIPS                                      12021                         12057   \n",
       "countyname                          Collier, FL              Hillsborough, FL   \n",
       "clinton                                   61085                        307896   \n",
       "trump                                    105423                        266870   \n",
       "johnson                                    3263                         15703   \n",
       "ind_cand                                   6002                         29124   \n",
       "mcmullin                                      0                             0   \n",
       "total_votes                              172510                        603890   \n",
       "AGI                                 2.17082e+07                   3.67815e+07   \n",
       "num_returns                              173430                        618330   \n",
       "num_dependents                            94720                        401610   \n",
       "num_tot_inc                              172820                        615620   \n",
       "tot_inc_amt                         2.20656e+07                   3.72932e+07   \n",
       "people                                   268150                   1.01994e+06   \n",
       "turnout                                0.643334                      0.592084   \n",
       "fips_countyname_county           Collier County           Hillsborough County   \n",
       "state                                        FL                            FL   \n",
       "State                                   Florida                       Florida   \n",
       "County                  Collier County, Florida  Hillsborough County, Florida   \n",
       "county_name                      Collier County           Hillsborough County   \n",
       "County_UA_pop                             22000                         41000   \n",
       "mult_counties                                 0                             0   \n",
       "State_init                                   FL                            FL   \n",
       "Statewide_UA_pop                         610000                        610000   \n",
       "\n",
       "                                          4  \n",
       "FIPS                                  12071  \n",
       "countyname                          Lee, FL  \n",
       "clinton                              124908  \n",
       "trump                                191551  \n",
       "johnson                                6982  \n",
       "ind_cand                              13303  \n",
       "mcmullin                                  0  \n",
       "total_votes                          329762  \n",
       "AGI                              2.1518e+07  \n",
       "num_returns                          318780  \n",
       "num_dependents                       167690  \n",
       "num_tot_inc                          317410  \n",
       "tot_inc_amt                     2.18567e+07  \n",
       "people                               486470  \n",
       "turnout                            0.677867  \n",
       "fips_countyname_county           Lee County  \n",
       "state                                    FL  \n",
       "State                               Florida  \n",
       "County                  Lee County, Florida  \n",
       "county_name                      Lee County  \n",
       "County_UA_pop                         27000  \n",
       "mult_counties                             0  \n",
       "State_init                               FL  \n",
       "Statewide_UA_pop                     610000  "
      ]
     },
     "execution_count": 146,
     "metadata": {},
     "output_type": "execute_result"
    }
   ],
   "source": [
    "df.head().T"
   ]
  },
  {
   "cell_type": "code",
   "execution_count": 158,
   "metadata": {
    "collapsed": false
   },
   "outputs": [],
   "source": [
    "merged_counties = [i for i in df.fips_countyname_county]\n",
    "immigration_counties = [i for i in imm.county_name]\n",
    "to_be_merged = [i for i in immigration_counties if i not in merged_counties]"
   ]
  },
  {
   "cell_type": "code",
   "execution_count": 159,
   "metadata": {
    "collapsed": false
   },
   "outputs": [
    {
     "data": {
      "text/plain": [
       "61"
      ]
     },
     "execution_count": 159,
     "metadata": {},
     "output_type": "execute_result"
    }
   ],
   "source": [
    "len(to_be_merged)"
   ]
  },
  {
   "cell_type": "code",
   "execution_count": 149,
   "metadata": {
    "collapsed": false
   },
   "outputs": [
    {
     "name": "stdout",
     "output_type": "stream",
     "text": [
      "Los Angeles County\n",
      "San Diego County\n",
      "Riverside County\n",
      "San Bernardino County\n",
      "Santa Clara County\n",
      "Alameda County\n",
      "Fresno County\n",
      "Kern County\n",
      "Monterey-San Benito Counties\n",
      "Contra Costa County\n",
      "Ventura County\n",
      "Sacramento County\n",
      "San Mateo County\n",
      "San Joaquin County\n",
      "Tulare County\n",
      "San Francisco County\n",
      "Santa Barbara County\n",
      "Stanislaus County\n",
      "Sonoma County\n",
      "Merced County\n",
      "Solano County\n",
      "Santa Cruz County\n",
      "Imperial County\n",
      "Madera County\n",
      "Marin County\n",
      "Kings County\n",
      "Yolo County\n",
      "Napa County\n",
      "San Luis Obispo County\n",
      "Montgomery-Chambers-Liberty Counties\n",
      "Du Page County\n",
      "Kings County\n",
      "New York County\n",
      "Richmond County\n",
      "Maricopa County\n",
      "Pima County\n",
      "Yuma County\n",
      "Pinal County\n",
      "Miami-Dade-Monroe Counties\n",
      "Duval-Nassau Counties\n",
      "Boston Area NECTA*\n",
      "Worcester Area NECTA*\n",
      "Alexandria City\n",
      "Prince Georges County\n",
      "Baltimore City\n",
      "De Kalb County\n",
      "Suburban Denver Counties**\n",
      "Denver County\n",
      "Orange-Chatham Counties\n",
      "Fairfield County\n",
      "New Haven County\n",
      "Hartford County\n",
      "Knox-Anderson-Union Counties\n",
      "Providence County\n",
      "Doña Ana County\n",
      "Jefferson-Plaquemines-St. Bernard Parishes\n",
      "Beaufort-Jasper Counties\n",
      "Jackson-Cass Counties\n",
      "St. Louis County\n",
      "Sedgwick-Butler-Harvey Counties\n",
      "Benton County\n"
     ]
    }
   ],
   "source": [
    "for i in immigration_counties:\n",
    "    if i not in merged_counties:\n",
    "        print i"
   ]
  },
  {
   "cell_type": "code",
   "execution_count": 153,
   "metadata": {
    "collapsed": false
   },
   "outputs": [],
   "source": [
    "df.to_csv('immigration.csv',index=False)"
   ]
  },
  {
   "cell_type": "code",
   "execution_count": 156,
   "metadata": {
    "collapsed": false
   },
   "outputs": [
    {
     "data": {
      "text/plain": [
       "(106, 24)"
      ]
     },
     "execution_count": 156,
     "metadata": {},
     "output_type": "execute_result"
    }
   ],
   "source": [
    "df.shape"
   ]
  }
 ],
 "metadata": {
  "kernelspec": {
   "display_name": "Python 2",
   "language": "python",
   "name": "python2"
  },
  "language_info": {
   "codemirror_mode": {
    "name": "ipython",
    "version": 2
   },
   "file_extension": ".py",
   "mimetype": "text/x-python",
   "name": "python",
   "nbconvert_exporter": "python",
   "pygments_lexer": "ipython2",
   "version": "2.7.13"
  }
 },
 "nbformat": 4,
 "nbformat_minor": 2
}
