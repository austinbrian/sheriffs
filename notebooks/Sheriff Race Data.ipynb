{
 "cells": [
  {
   "cell_type": "markdown",
   "metadata": {},
   "source": [
    "# Sheriff Race Data\n",
    "---\n",
    "Exploration of race data by offices. "
   ]
  },
  {
   "cell_type": "code",
   "execution_count": 23,
   "metadata": {},
   "outputs": [],
   "source": [
    "import pandas as pd\n",
    "import numpy as np\n",
    "\n",
    "cands = pd.read_csv('../data/candidates_rd2017.csv')\n",
    "city = pd.read_csv('../data/city_candidates_rd2017.csv')\n",
    "# elec = pd.read_csv('../data/city_elected_officials_rd2017.csv')\n",
    "\n",
    "pd.set_option('display.max_rows',1000)\n",
    "pd.set_option('display.max_columns',1000)\n",
    "\n",
    "# Includes commas in outputs > 1,000, and formats as integers if integers\n",
    "# If not integers, formats to two decimal places\n",
    "pd.set_option('display.float_format', lambda x: \"{:,.0f}\".format(x) if x.is_integer()\n",
    "              else \"{:,.2f}\".format(x))"
   ]
  },
  {
   "cell_type": "markdown",
   "metadata": {},
   "source": [
    "## Candidates\n",
    "- County\n",
    "- Federal\n",
    "- State (statewide)\n",
    "- State Legislature\n",
    "- Other (district attorneys, registers of deeds, etc)"
   ]
  },
  {
   "cell_type": "code",
   "execution_count": 4,
   "metadata": {},
   "outputs": [
    {
     "data": {
      "text/plain": [
       "(30920, 12)"
      ]
     },
     "execution_count": 4,
     "metadata": {},
     "output_type": "execute_result"
    }
   ],
   "source": [
    "cands.shape"
   ]
  },
  {
   "cell_type": "code",
   "execution_count": 7,
   "metadata": {},
   "outputs": [
    {
     "data": {
      "text/html": [
       "<div>\n",
       "<style>\n",
       "    .dataframe thead tr:only-child th {\n",
       "        text-align: right;\n",
       "    }\n",
       "\n",
       "    .dataframe thead th {\n",
       "        text-align: left;\n",
       "    }\n",
       "\n",
       "    .dataframe tbody tr th {\n",
       "        vertical-align: top;\n",
       "    }\n",
       "</style>\n",
       "<table border=\"1\" class=\"dataframe\">\n",
       "  <thead>\n",
       "    <tr style=\"text-align: right;\">\n",
       "      <th></th>\n",
       "      <th>State</th>\n",
       "      <th>RDID</th>\n",
       "      <th>Candidate Name</th>\n",
       "      <th>Candidate Party</th>\n",
       "      <th>Candidate Office</th>\n",
       "      <th>Full Office Name</th>\n",
       "      <th>electoral_district</th>\n",
       "      <th>ocdid</th>\n",
       "      <th>sex</th>\n",
       "      <th>race roll up</th>\n",
       "      <th>Office Level</th>\n",
       "      <th>Number Elected</th>\n",
       "    </tr>\n",
       "  </thead>\n",
       "  <tbody>\n",
       "    <tr>\n",
       "      <th>0</th>\n",
       "      <td>AK</td>\n",
       "      <td>C000001</td>\n",
       "      <td>Geran Tarr</td>\n",
       "      <td>Democratic Party</td>\n",
       "      <td>AK State Representative</td>\n",
       "      <td>AK State Representative District 19</td>\n",
       "      <td>Alaska State House district 19</td>\n",
       "      <td>ocd-division/country:us/state:ak/sldl:19</td>\n",
       "      <td>Female</td>\n",
       "      <td>White</td>\n",
       "      <td>State Legislature</td>\n",
       "      <td>1</td>\n",
       "    </tr>\n",
       "    <tr>\n",
       "      <th>1</th>\n",
       "      <td>AK</td>\n",
       "      <td>C000002</td>\n",
       "      <td>Matt Claman</td>\n",
       "      <td>Democratic Party</td>\n",
       "      <td>AK State Representative</td>\n",
       "      <td>AK State Representative District 21</td>\n",
       "      <td>Alaska State House district 21</td>\n",
       "      <td>ocd-division/country:us/state:ak/sldl:21</td>\n",
       "      <td>Male</td>\n",
       "      <td>White</td>\n",
       "      <td>State Legislature</td>\n",
       "      <td>1</td>\n",
       "    </tr>\n",
       "    <tr>\n",
       "      <th>2</th>\n",
       "      <td>AK</td>\n",
       "      <td>C000003</td>\n",
       "      <td>Chris S. Tuck</td>\n",
       "      <td>Democratic Party</td>\n",
       "      <td>AK State Representative</td>\n",
       "      <td>AK State Representative District 23</td>\n",
       "      <td>Alaska State House district 23</td>\n",
       "      <td>ocd-division/country:us/state:ak/sldl:23</td>\n",
       "      <td>Male</td>\n",
       "      <td>White</td>\n",
       "      <td>State Legislature</td>\n",
       "      <td>1</td>\n",
       "    </tr>\n",
       "    <tr>\n",
       "      <th>3</th>\n",
       "      <td>AK</td>\n",
       "      <td>C000004</td>\n",
       "      <td>Scott J. Kawasaki</td>\n",
       "      <td>Democratic Party</td>\n",
       "      <td>AK State Representative</td>\n",
       "      <td>AK State Representative District 1</td>\n",
       "      <td>Alaska State House district 1</td>\n",
       "      <td>ocd-division/country:us/state:ak/sldl:1</td>\n",
       "      <td>Male</td>\n",
       "      <td>Asian American or Pacific Islander</td>\n",
       "      <td>State Legislature</td>\n",
       "      <td>1</td>\n",
       "    </tr>\n",
       "    <tr>\n",
       "      <th>4</th>\n",
       "      <td>AK</td>\n",
       "      <td>C000005</td>\n",
       "      <td>Lance Pruitt</td>\n",
       "      <td>Republican Party</td>\n",
       "      <td>AK State Representative</td>\n",
       "      <td>AK State Representative District 27</td>\n",
       "      <td>Alaska State House district 27</td>\n",
       "      <td>ocd-division/country:us/state:ak/sldl:27</td>\n",
       "      <td>Male</td>\n",
       "      <td>White</td>\n",
       "      <td>State Legislature</td>\n",
       "      <td>1</td>\n",
       "    </tr>\n",
       "  </tbody>\n",
       "</table>\n",
       "</div>"
      ],
      "text/plain": [
       "  State     RDID     Candidate Name   Candidate Party  \\\n",
       "0    AK  C000001         Geran Tarr  Democratic Party   \n",
       "1    AK  C000002        Matt Claman  Democratic Party   \n",
       "2    AK  C000003      Chris S. Tuck  Democratic Party   \n",
       "3    AK  C000004  Scott J. Kawasaki  Democratic Party   \n",
       "4    AK  C000005       Lance Pruitt  Republican Party   \n",
       "\n",
       "          Candidate Office                     Full Office Name  \\\n",
       "0  AK State Representative  AK State Representative District 19   \n",
       "1  AK State Representative  AK State Representative District 21   \n",
       "2  AK State Representative  AK State Representative District 23   \n",
       "3  AK State Representative   AK State Representative District 1   \n",
       "4  AK State Representative  AK State Representative District 27   \n",
       "\n",
       "               electoral_district                                     ocdid  \\\n",
       "0  Alaska State House district 19  ocd-division/country:us/state:ak/sldl:19   \n",
       "1  Alaska State House district 21  ocd-division/country:us/state:ak/sldl:21   \n",
       "2  Alaska State House district 23  ocd-division/country:us/state:ak/sldl:23   \n",
       "3   Alaska State House district 1   ocd-division/country:us/state:ak/sldl:1   \n",
       "4  Alaska State House district 27  ocd-division/country:us/state:ak/sldl:27   \n",
       "\n",
       "      sex                        race roll up       Office Level  \\\n",
       "0  Female                               White  State Legislature   \n",
       "1    Male                               White  State Legislature   \n",
       "2    Male                               White  State Legislature   \n",
       "3    Male  Asian American or Pacific Islander  State Legislature   \n",
       "4    Male                               White  State Legislature   \n",
       "\n",
       "  Number Elected  \n",
       "0              1  \n",
       "1              1  \n",
       "2              1  \n",
       "3              1  \n",
       "4              1  "
      ]
     },
     "execution_count": 7,
     "metadata": {},
     "output_type": "execute_result"
    }
   ],
   "source": [
    "cands.head()"
   ]
  },
  {
   "cell_type": "code",
   "execution_count": 37,
   "metadata": {},
   "outputs": [
    {
     "data": {
      "text/plain": [
       "Office Level\n",
       "County               18499\n",
       "Federal               1349\n",
       "Other                  265\n",
       "State                  704\n",
       "State Legislature    10103\n",
       "Name: State, dtype: int64"
      ]
     },
     "execution_count": 37,
     "metadata": {},
     "output_type": "execute_result"
    }
   ],
   "source": [
    "cands.groupby('Office Level')['State'].count()"
   ]
  },
  {
   "cell_type": "code",
   "execution_count": 40,
   "metadata": {},
   "outputs": [
    {
     "data": {
      "text/plain": [
       "Candidate Office\n",
       "AL District Attorney                                       49\n",
       "CO District Attorney                                       30\n",
       "FL Public Defender                                          3\n",
       "FL State Attorney                                           4\n",
       "GA District Attorney                                       46\n",
       "IL Regional Office of Education Regional Superintendent     2\n",
       "KS District Attorney                                        6\n",
       "MA District Attorney                                        1\n",
       "MA Register of Deeds                                        6\n",
       "NC District Attorney                                        5\n",
       "NM District Attorney                                       18\n",
       "Regional School Unit 2 School District School Director      1\n",
       "SC Solicitor                                               10\n",
       "TN Public Defender                                          1\n",
       "TX District Attorney                                       83\n",
       "Name: State, dtype: int64"
      ]
     },
     "execution_count": 40,
     "metadata": {},
     "output_type": "execute_result"
    }
   ],
   "source": [
    "cands[cands['Office Level'] == 'Other'].groupby(\n",
    "    'Candidate Office')['State'].count()"
   ]
  },
  {
   "cell_type": "code",
   "execution_count": 34,
   "metadata": {},
   "outputs": [],
   "source": [
    "cands.sex[cands.sex == 'FEMALE'] = \"Female\"\n",
    "cands.sex[cands.sex == 'MALE'] = 'Male'"
   ]
  },
  {
   "cell_type": "code",
   "execution_count": 51,
   "metadata": {},
   "outputs": [
    {
     "data": {
      "text/html": [
       "<div>\n",
       "<style>\n",
       "    .dataframe thead tr:only-child th {\n",
       "        text-align: right;\n",
       "    }\n",
       "\n",
       "    .dataframe thead th {\n",
       "        text-align: left;\n",
       "    }\n",
       "\n",
       "    .dataframe tbody tr th {\n",
       "        vertical-align: top;\n",
       "    }\n",
       "</style>\n",
       "<table border=\"1\" class=\"dataframe\">\n",
       "  <thead>\n",
       "    <tr style=\"text-align: right;\">\n",
       "      <th>sex</th>\n",
       "      <th>Female</th>\n",
       "      <th>Male</th>\n",
       "      <th>Unknown</th>\n",
       "    </tr>\n",
       "    <tr>\n",
       "      <th>race roll up</th>\n",
       "      <th></th>\n",
       "      <th></th>\n",
       "      <th></th>\n",
       "    </tr>\n",
       "  </thead>\n",
       "  <tbody>\n",
       "    <tr>\n",
       "      <th>American Indian or Alaska Native</th>\n",
       "      <td>0.26</td>\n",
       "      <td>0.74</td>\n",
       "      <td>0</td>\n",
       "    </tr>\n",
       "    <tr>\n",
       "      <th>Asian American or Pacific Islander</th>\n",
       "      <td>0.30</td>\n",
       "      <td>0.68</td>\n",
       "      <td>0.03</td>\n",
       "    </tr>\n",
       "    <tr>\n",
       "      <th>Black or African-American</th>\n",
       "      <td>0.36</td>\n",
       "      <td>0.64</td>\n",
       "      <td>0.00</td>\n",
       "    </tr>\n",
       "    <tr>\n",
       "      <th>Hispanic or Latino</th>\n",
       "      <td>0.30</td>\n",
       "      <td>0.70</td>\n",
       "      <td>0.00</td>\n",
       "    </tr>\n",
       "    <tr>\n",
       "      <th>Multiracial</th>\n",
       "      <td>1</td>\n",
       "      <td>0</td>\n",
       "      <td>0</td>\n",
       "    </tr>\n",
       "    <tr>\n",
       "      <th>Other</th>\n",
       "      <td>0.12</td>\n",
       "      <td>0.88</td>\n",
       "      <td>0</td>\n",
       "    </tr>\n",
       "    <tr>\n",
       "      <th>Unknown</th>\n",
       "      <td>0.07</td>\n",
       "      <td>0.14</td>\n",
       "      <td>0.79</td>\n",
       "    </tr>\n",
       "    <tr>\n",
       "      <th>White</th>\n",
       "      <td>0.27</td>\n",
       "      <td>0.72</td>\n",
       "      <td>0.01</td>\n",
       "    </tr>\n",
       "  </tbody>\n",
       "</table>\n",
       "</div>"
      ],
      "text/plain": [
       "sex                                 Female  Male  Unknown\n",
       "race roll up                                             \n",
       "American Indian or Alaska Native      0.26  0.74        0\n",
       "Asian American or Pacific Islander    0.30  0.68     0.03\n",
       "Black or African-American             0.36  0.64     0.00\n",
       "Hispanic or Latino                    0.30  0.70     0.00\n",
       "Multiracial                              1     0        0\n",
       "Other                                 0.12  0.88        0\n",
       "Unknown                               0.07  0.14     0.79\n",
       "White                                 0.27  0.72     0.01"
      ]
     },
     "execution_count": 51,
     "metadata": {},
     "output_type": "execute_result"
    }
   ],
   "source": [
    "pd.crosstab(cands['race roll up'], cands.sex).apply(lambda r: r/r.sum(), axis=1)\n",
    "# table/table.sum(axis=1,level=0).astype(float)"
   ]
  },
  {
   "cell_type": "code",
   "execution_count": null,
   "metadata": {
    "collapsed": true
   },
   "outputs": [],
   "source": []
  },
  {
   "cell_type": "code",
   "execution_count": null,
   "metadata": {
    "collapsed": true
   },
   "outputs": [],
   "source": []
  },
  {
   "cell_type": "code",
   "execution_count": null,
   "metadata": {
    "collapsed": true
   },
   "outputs": [],
   "source": []
  },
  {
   "cell_type": "markdown",
   "metadata": {},
   "source": [
    "## Elected officials"
   ]
  },
  {
   "cell_type": "code",
   "execution_count": 14,
   "metadata": {},
   "outputs": [
    {
     "name": "stdout",
     "output_type": "stream",
     "text": [
      "{'encoding': 'ISO-8859-1', 'confidence': 0.73, 'language': ''}\n"
     ]
    }
   ],
   "source": [
    "import chardet\n",
    "with open('../data/city_elected_officials_rd2017.csv', 'rb') as f:\n",
    "    result = chardet.detect(f.read()) \n",
    "    print(result)"
   ]
  },
  {
   "cell_type": "code",
   "execution_count": 15,
   "metadata": {},
   "outputs": [],
   "source": [
    "elec = pd.read_csv('../data/city_elected_officials_rd2017.csv',encoding=\n",
    "                   'ISO-8859-1')"
   ]
  },
  {
   "cell_type": "code",
   "execution_count": 16,
   "metadata": {},
   "outputs": [
    {
     "data": {
      "text/html": [
       "<div>\n",
       "<style>\n",
       "    .dataframe thead tr:only-child th {\n",
       "        text-align: right;\n",
       "    }\n",
       "\n",
       "    .dataframe thead th {\n",
       "        text-align: left;\n",
       "    }\n",
       "\n",
       "    .dataframe tbody tr th {\n",
       "        vertical-align: top;\n",
       "    }\n",
       "</style>\n",
       "<table border=\"1\" class=\"dataframe\">\n",
       "  <thead>\n",
       "    <tr style=\"text-align: right;\">\n",
       "      <th></th>\n",
       "      <th>State</th>\n",
       "      <th>City</th>\n",
       "      <th>RDID</th>\n",
       "      <th>Electoral District</th>\n",
       "      <th>Office Name</th>\n",
       "      <th>Official Name</th>\n",
       "      <th>Official Party</th>\n",
       "      <th>OCDID</th>\n",
       "      <th>Sex</th>\n",
       "      <th>Race</th>\n",
       "    </tr>\n",
       "  </thead>\n",
       "  <tbody>\n",
       "    <tr>\n",
       "      <th>0</th>\n",
       "      <td>MD</td>\n",
       "      <td>Baltimore</td>\n",
       "      <td>E000031</td>\n",
       "      <td>Baltimore City Council District 8</td>\n",
       "      <td>Council District 8</td>\n",
       "      <td>Kristerfer Burnett</td>\n",
       "      <td>Democratic</td>\n",
       "      <td>ocd-division/country:us/state:md/place:baltimo...</td>\n",
       "      <td>Male</td>\n",
       "      <td>Black or African-American</td>\n",
       "    </tr>\n",
       "    <tr>\n",
       "      <th>1</th>\n",
       "      <td>MD</td>\n",
       "      <td>Baltimore</td>\n",
       "      <td>E001393</td>\n",
       "      <td>Baltimore City Council District 9</td>\n",
       "      <td>Council District 9</td>\n",
       "      <td>John T. Bullock</td>\n",
       "      <td>Democratic</td>\n",
       "      <td>ocd-division/country:us/state:md/place:baltimo...</td>\n",
       "      <td>Male</td>\n",
       "      <td>Black or African-American</td>\n",
       "    </tr>\n",
       "    <tr>\n",
       "      <th>2</th>\n",
       "      <td>DC</td>\n",
       "      <td>Washington</td>\n",
       "      <td>E004161</td>\n",
       "      <td>District of Columbia Ward 7</td>\n",
       "      <td>Council Ward 7</td>\n",
       "      <td>Vincent C. Gray</td>\n",
       "      <td>Democratic</td>\n",
       "      <td>ocd-division/country:us/district:dc/ward:7</td>\n",
       "      <td>Male</td>\n",
       "      <td>Black or African-American</td>\n",
       "    </tr>\n",
       "    <tr>\n",
       "      <th>3</th>\n",
       "      <td>MD</td>\n",
       "      <td>Baltimore</td>\n",
       "      <td>E010155</td>\n",
       "      <td>Baltimore City Council District 1</td>\n",
       "      <td>Council District 1</td>\n",
       "      <td>Zeke Cohen</td>\n",
       "      <td>Democratic</td>\n",
       "      <td>ocd-division/country:us/state:md/place:baltimo...</td>\n",
       "      <td>Male</td>\n",
       "      <td>White</td>\n",
       "    </tr>\n",
       "    <tr>\n",
       "      <th>4</th>\n",
       "      <td>MD</td>\n",
       "      <td>Baltimore</td>\n",
       "      <td>E012648</td>\n",
       "      <td>Baltimore City Council District 13</td>\n",
       "      <td>Council District 13</td>\n",
       "      <td>Shannon Sneed</td>\n",
       "      <td>Democratic</td>\n",
       "      <td>ocd-division/country:us/state:md/place:baltimo...</td>\n",
       "      <td>Female</td>\n",
       "      <td>Black or African-American</td>\n",
       "    </tr>\n",
       "  </tbody>\n",
       "</table>\n",
       "</div>"
      ],
      "text/plain": [
       "  State        City     RDID                  Electoral District  \\\n",
       "0    MD   Baltimore  E000031   Baltimore City Council District 8   \n",
       "1    MD   Baltimore  E001393   Baltimore City Council District 9   \n",
       "2    DC  Washington  E004161         District of Columbia Ward 7   \n",
       "3    MD   Baltimore  E010155   Baltimore City Council District 1   \n",
       "4    MD   Baltimore  E012648  Baltimore City Council District 13   \n",
       "\n",
       "           Office Name       Official Name Official Party  \\\n",
       "0   Council District 8  Kristerfer Burnett     Democratic   \n",
       "1   Council District 9     John T. Bullock     Democratic   \n",
       "2       Council Ward 7     Vincent C. Gray     Democratic   \n",
       "3   Council District 1          Zeke Cohen     Democratic   \n",
       "4  Council District 13       Shannon Sneed     Democratic   \n",
       "\n",
       "                                               OCDID     Sex  \\\n",
       "0  ocd-division/country:us/state:md/place:baltimo...    Male   \n",
       "1  ocd-division/country:us/state:md/place:baltimo...    Male   \n",
       "2         ocd-division/country:us/district:dc/ward:7    Male   \n",
       "3  ocd-division/country:us/state:md/place:baltimo...    Male   \n",
       "4  ocd-division/country:us/state:md/place:baltimo...  Female   \n",
       "\n",
       "                        Race  \n",
       "0  Black or African-American  \n",
       "1  Black or African-American  \n",
       "2  Black or African-American  \n",
       "3                      White  \n",
       "4  Black or African-American  "
      ]
     },
     "execution_count": 16,
     "metadata": {},
     "output_type": "execute_result"
    }
   ],
   "source": [
    "elec.head()"
   ]
  },
  {
   "cell_type": "code",
   "execution_count": 17,
   "metadata": {},
   "outputs": [
    {
     "data": {
      "text/plain": [
       "(2014, 10)"
      ]
     },
     "execution_count": 17,
     "metadata": {},
     "output_type": "execute_result"
    }
   ],
   "source": []
  },
  {
   "cell_type": "code",
   "execution_count": null,
   "metadata": {
    "collapsed": true
   },
   "outputs": [],
   "source": []
  }
 ],
 "metadata": {
  "kernelspec": {
   "display_name": "Python 3",
   "language": "python",
   "name": "python3"
  },
  "language_info": {
   "codemirror_mode": {
    "name": "ipython",
    "version": 3
   },
   "file_extension": ".py",
   "mimetype": "text/x-python",
   "name": "python",
   "nbconvert_exporter": "python",
   "pygments_lexer": "ipython3",
   "version": "3.6.2"
  }
 },
 "nbformat": 4,
 "nbformat_minor": 2
}
